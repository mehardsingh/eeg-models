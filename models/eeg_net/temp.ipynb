{
 "cells": [
  {
   "cell_type": "code",
   "execution_count": 4,
   "metadata": {},
   "outputs": [],
   "source": [
    "import torch\n",
    "from eeg_net import EEGNet"
   ]
  },
  {
   "cell_type": "code",
   "execution_count": 5,
   "metadata": {},
   "outputs": [],
   "source": [
    "class ConfigStruct:\n",
    "    def __init__(self, config_dict):\n",
    "        self.__dict__.update(config_dict)\n",
    "\n",
    "    def __repr__(self):\n",
    "        return str(self.__dict__)\n",
    "\n",
    "# Example dictionary\n",
    "config_dict = {\n",
    "    \"n_classes\": 2,\n",
    "    \"s\": 4,\n",
    "    \"F1\": 8,\n",
    "    \"D\": 2,\n",
    "    \"F2\": \"auto\",\n",
    "    \"T1\": 125,\n",
    "    \"T2\": 33,\n",
    "    \"P1\": 8,\n",
    "    \"P2\": 16,\n",
    "    \"drop_out\": 0.5,\n",
    "    \"pool_mode\": \"mean\",\n",
    "    \"weight_init_method\": \"xavier_uni\",\n",
    "    \"last_dim\": 32\n",
    "}\n",
    "\n",
    "# Create a config struct instance\n",
    "config = ConfigStruct(config_dict)"
   ]
  },
  {
   "cell_type": "code",
   "execution_count": 6,
   "metadata": {},
   "outputs": [
    {
     "name": "stdout",
     "output_type": "stream",
     "text": [
      "torch.Size([16, 1, 4, 300])\n",
      "torch.Size([16, 8, 4, 300])\n",
      "torch.Size([16, 16, 1, 37])\n",
      "torch.Size([16, 16, 1, 2])\n",
      "torch.Size([16, 2])\n"
     ]
    }
   ],
   "source": [
    "model = EEGNet(config)\n",
    "x = torch.rand(16, 1, 4, 501)\n",
    "y = model(x)\n",
    "print(y.shape)"
   ]
  },
  {
   "cell_type": "code",
   "execution_count": 7,
   "metadata": {},
   "outputs": [
    {
     "name": "stdout",
     "output_type": "stream",
     "text": [
      "Number of trainable parameters: 1994\n"
     ]
    }
   ],
   "source": [
    "num_params = sum(p.numel() for p in model.parameters() if p.requires_grad)\n",
    "\n",
    "print(\"Number of trainable parameters:\", num_params)"
   ]
  }
 ],
 "metadata": {
  "kernelspec": {
   "display_name": "timeseries",
   "language": "python",
   "name": "python3"
  },
  "language_info": {
   "codemirror_mode": {
    "name": "ipython",
    "version": 3
   },
   "file_extension": ".py",
   "mimetype": "text/x-python",
   "name": "python",
   "nbconvert_exporter": "python",
   "pygments_lexer": "ipython3",
   "version": "3.9.12"
  },
  "orig_nbformat": 4
 },
 "nbformat": 4,
 "nbformat_minor": 2
}
