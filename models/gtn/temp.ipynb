{
 "cells": [
  {
   "cell_type": "code",
   "execution_count": 1,
   "metadata": {},
   "outputs": [],
   "source": [
    "from transformer import Transformer\n",
    "import numpy as np\n",
    "import torch\n",
    "import json"
   ]
  },
  {
   "cell_type": "code",
   "execution_count": 2,
   "metadata": {},
   "outputs": [],
   "source": [
    "class Config:\n",
    "    def __init__(self, **entries):\n",
    "        self.__dict__.update(entries)"
   ]
  },
  {
   "cell_type": "code",
   "execution_count": 6,
   "metadata": {},
   "outputs": [
    {
     "name": "stdout",
     "output_type": "stream",
     "text": [
      "<__main__.Config object at 0x1279c6250>\n"
     ]
    },
    {
     "ename": "AttributeError",
     "evalue": "'Config' object has no attribute 'd_model'",
     "output_type": "error",
     "traceback": [
      "\u001b[0;31m---------------------------------------------------------------------------\u001b[0m",
      "\u001b[0;31mAttributeError\u001b[0m                            Traceback (most recent call last)",
      "Cell \u001b[0;32mIn[6], line 9\u001b[0m\n\u001b[1;32m      5\u001b[0m config \u001b[39m=\u001b[39m Config(\u001b[39m*\u001b[39m\u001b[39m*\u001b[39mconfig)\n\u001b[1;32m      7\u001b[0m \u001b[39mprint\u001b[39m(config)\n\u001b[0;32m----> 9\u001b[0m model \u001b[39m=\u001b[39m Transformer(\n\u001b[1;32m     10\u001b[0m     config\n\u001b[1;32m     11\u001b[0m )\u001b[39m.\u001b[39mto(device)\n\u001b[1;32m     13\u001b[0m \u001b[39m# q = 8\u001b[39;00m\n\u001b[1;32m     14\u001b[0m \u001b[39m# v = 8\u001b[39;00m\n\u001b[1;32m     15\u001b[0m \u001b[39m# h = 8\u001b[39;00m\n\u001b[0;32m   (...)\u001b[0m\n\u001b[1;32m     18\u001b[0m \u001b[39m# pe = True  # # 设置的是双塔中 score=pe score=channel默认没有pe\u001b[39;00m\n\u001b[1;32m     19\u001b[0m \u001b[39m# mask = True  # 设置的是双塔中 score=input的mask score=channel默认没有mask\u001b[39;00m\n\u001b[1;32m     21\u001b[0m model_parameters \u001b[39m=\u001b[39m \u001b[39mfilter\u001b[39m(\u001b[39mlambda\u001b[39;00m p: p\u001b[39m.\u001b[39mrequires_grad, model\u001b[39m.\u001b[39mparameters())\n",
      "File \u001b[0;32m~/Documents/eeg-models/models/gtn/transformer.py:14\u001b[0m, in \u001b[0;36mTransformer.__init__\u001b[0;34m(self, config)\u001b[0m\n\u001b[1;32m     11\u001b[0m \u001b[39mdef\u001b[39;00m \u001b[39m__init__\u001b[39m(\u001b[39mself\u001b[39m, config):\n\u001b[1;32m     12\u001b[0m     \u001b[39msuper\u001b[39m(Transformer, \u001b[39mself\u001b[39m)\u001b[39m.\u001b[39m\u001b[39m__init__\u001b[39m()\n\u001b[0;32m---> 14\u001b[0m     d_model \u001b[39m=\u001b[39m config\u001b[39m.\u001b[39;49md_model\n\u001b[1;32m     15\u001b[0m     d_input \u001b[39m=\u001b[39m config\u001b[39m.\u001b[39md_input\n\u001b[1;32m     16\u001b[0m     d_channel \u001b[39m=\u001b[39m config\u001b[39m.\u001b[39md_channel\n",
      "\u001b[0;31mAttributeError\u001b[0m: 'Config' object has no attribute 'd_model'"
     ]
    }
   ],
   "source": [
    "device = \"mps\"\n",
    "\n",
    "with open(\"../../experiments/speed_rom/configs.json\", mode=\"r\") as f:\n",
    "    config = json.load(f)[\"gtn\"]\n",
    "config = Config(**config)\n",
    "\n",
    "print(config)\n",
    "\n",
    "model = Transformer(\n",
    "    config\n",
    ").to(device)\n",
    "\n",
    "# q = 8\n",
    "# v = 8\n",
    "# h = 8\n",
    "# N = 8\n",
    "# dropout = 0.2\n",
    "# pe = True  # # 设置的是双塔中 score=pe score=channel默认没有pe\n",
    "# mask = True  # 设置的是双塔中 score=input的mask score=channel默认没有mask\n",
    "\n",
    "model_parameters = filter(lambda p: p.requires_grad, model.parameters())\n",
    "params = sum([np.prod(p.size()) for p in model_parameters])\n",
    "print(f\"Number of params: {params}\")"
   ]
  },
  {
   "cell_type": "code",
   "execution_count": 6,
   "metadata": {},
   "outputs": [],
   "source": [
    "data = torch.rand(64, 501, 4).to(device)\n",
    "output = model(x=data, stage=\"train\")"
   ]
  },
  {
   "cell_type": "code",
   "execution_count": null,
   "metadata": {},
   "outputs": [],
   "source": []
  }
 ],
 "metadata": {
  "kernelspec": {
   "display_name": ".venv",
   "language": "python",
   "name": "python3"
  },
  "language_info": {
   "codemirror_mode": {
    "name": "ipython",
    "version": 3
   },
   "file_extension": ".py",
   "mimetype": "text/x-python",
   "name": "python",
   "nbconvert_exporter": "python",
   "pygments_lexer": "ipython3",
   "version": "3.9.12"
  },
  "orig_nbformat": 4
 },
 "nbformat": 4,
 "nbformat_minor": 2
}
